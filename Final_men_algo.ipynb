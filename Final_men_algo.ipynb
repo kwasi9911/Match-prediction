{
 "cells": [
  {
   "cell_type": "code",
   "execution_count": 1,
   "id": "430f7ddd-f89e-4368-8237-66a8a987ef1d",
   "metadata": {},
   "outputs": [],
   "source": [
    "import pandas as pd\n",
    "import joblib"
   ]
  },
  {
   "cell_type": "code",
   "execution_count": 2,
   "id": "897d2ac6-c755-4fdc-b277-2f8a1e1aaf03",
   "metadata": {},
   "outputs": [],
   "source": [
    "# Load the model and scaler\n",
    "clf = joblib.load('logistic_regression_model.pkl')\n",
    "scaler = joblib.load('scaler.pkl')"
   ]
  },
  {
   "cell_type": "code",
   "execution_count": 3,
   "id": "68d553e4-0031-4292-91ef-572837a4adf6",
   "metadata": {},
   "outputs": [],
   "source": [
    "#Loading the dataset\n",
    "#Replace file path with path on your device\n",
    "file_path = '/Users/nanakwasi/Downloads/archive/cbb.csv'\n",
    "df = pd.read_csv(file_path)"
   ]
  },
  {
   "cell_type": "code",
   "execution_count": 4,
   "id": "f144653c-966c-4640-b813-d53185947e32",
   "metadata": {},
   "outputs": [],
   "source": [
    "# List of current CAA member schools\n",
    "caa_member_schools = [\n",
    "    'College of Charleston', 'Delaware', 'Drexel', 'Elon',\n",
    "    'Hampton', 'Hofstra', 'Monmouth', 'North Carolina A&T',\n",
    "    'UNC Wilmington', 'Northeastern', 'Stony Brook',\n",
    "    'Towson', 'William & Mary'\n",
    "]\n",
    "# Normalize the school names to lowercase for consistent comparison\n",
    "caa_member_schools = [school.lower() for school in caa_member_schools]\n",
    "\n",
    "# Filter the dataset for the current CAA member schools\n",
    "df['TEAM'] = df['TEAM'].str.lower()\n",
    "caa_df = df[df['TEAM'].isin(caa_member_schools)].copy()"
   ]
  },
  {
   "cell_type": "code",
   "execution_count": 5,
   "id": "f84679f4-38da-451f-8046-ed35d662b803",
   "metadata": {},
   "outputs": [],
   "source": [
    "# Handle missing values\n",
    "caa_df.loc[:, 'POSTSEASON'] = caa_df['POSTSEASON'].fillna('None')\n",
    "caa_df.loc[:, 'SEED'] = caa_df['SEED'].fillna(0)"
   ]
  },
  {
   "cell_type": "code",
   "execution_count": 6,
   "id": "83aaa090-03bb-49b0-b292-bf1294e35a1f",
   "metadata": {},
   "outputs": [],
   "source": [
    "# Convert 'None' and non-numeric values to 0 in 'POSTSEASON' column\n",
    "caa_df['POSTSEASON'] = caa_df['POSTSEASON'].apply(lambda x: 0 if not str(x).isdigit() else int(x))"
   ]
  },
  {
   "cell_type": "code",
   "execution_count": 7,
   "id": "4225273c-82db-4bc8-a667-cdeed447797e",
   "metadata": {},
   "outputs": [],
   "source": [
    "# Derive the number of losses and create a binary target variable for win/loss\n",
    "caa_df['LOSSES'] = caa_df['G'] - caa_df['W']\n",
    "caa_df['WIN'] = (caa_df['W'] > caa_df['LOSSES']).astype(int)"
   ]
  },
  {
   "cell_type": "code",
   "execution_count": 8,
   "id": "8196367f-202d-451c-8606-13f9009d704e",
   "metadata": {},
   "outputs": [],
   "source": [
    "# Select relevant features\n",
    "selected_features = [\n",
    "    'G', 'ADJOE', 'ADJDE', 'EFG_O', 'EFG_D', 'TOR', 'TORD', 'ORB', \n",
    "    'DRB', 'FTR', 'FTRD', '2P_O', '2P_D', '3P_O', '3P_D', 'ADJ_T', 'WAB', 'YEAR', 'POSTSEASON'\n",
    "]"
   ]
  },
  {
   "cell_type": "code",
   "execution_count": 9,
   "id": "a3dd2aa0-90a8-4653-8658-ed40dd6ae23d",
   "metadata": {},
   "outputs": [],
   "source": [
    "def predict_matchup(team1, team2):\n",
    "    # Convert input team names to lowercase\n",
    "    team1 = team1.lower()\n",
    "    team2 = team2.lower()\n",
    "    \n",
    "    # Check if both teams exist in the dataset\n",
    "    if team1 not in caa_df['TEAM'].values:\n",
    "        return f\"Error: Team {team1} not found in the dataset.\"\n",
    "    if team2 not in caa_df['TEAM'].values:\n",
    "        return f\"Error: Team {team2} not found in the dataset.\"\n",
    "    \n",
    "    team1_stats = caa_df[caa_df['TEAM'] == team1][selected_features].iloc[0]\n",
    "    team2_stats = caa_df[caa_df['TEAM'] == team2][selected_features].iloc[0]\n",
    "    \n",
    "    # Prepare the data for prediction\n",
    "    matchup_data = pd.DataFrame([team1_stats, team2_stats])\n",
    "    \n",
    "    # Ensure all data is numeric\n",
    "    matchup_data = matchup_data.apply(pd.to_numeric)\n",
    "    \n",
    "    # Standardize the data\n",
    "    matchup_scaled = scaler.transform(matchup_data)\n",
    "    \n",
    "    # Predict the outcomes\n",
    "    probabilities = clf.predict_proba(matchup_scaled)\n",
    "    \n",
    "    # Interpret the predictions\n",
    "    outcome1 = 'Win' if probabilities[0][1] > probabilities[1][1] else 'Lose'\n",
    "    outcome2 = 'Win' if outcome1 == 'Lose' else 'Lose'\n",
    "    \n",
    "    result = {\n",
    "        'team1': team1,\n",
    "        'team2': team2,\n",
    "        'team1_outcome': outcome1,\n",
    "        'team2_outcome': outcome2\n",
    "    }\n",
    "    \n",
    "    return result"
   ]
  },
  {
   "cell_type": "code",
   "execution_count": 10,
   "id": "26f78ded-bd2e-457d-849c-783a6c9778b0",
   "metadata": {},
   "outputs": [
    {
     "name": "stdin",
     "output_type": "stream",
     "text": [
      "Enter the name of Team 1:  drexel\n",
      "Enter the name of Team 2:  elon\n"
     ]
    },
    {
     "name": "stdout",
     "output_type": "stream",
     "text": [
      "Prediction for drexel vs. elon:\n",
      "drexel will Lose\n",
      "elon will Win\n"
     ]
    }
   ],
   "source": [
    "# Testing algorithm\n",
    "team1 = input(\"Enter the name of Team 1: \")\n",
    "team2 = input(\"Enter the name of Team 2: \")\n",
    "\n",
    "result = predict_matchup(team1, team2)\n",
    "\n",
    "if isinstance(result, str):  \n",
    "    print(result)\n",
    "else:\n",
    "    print(f\"Prediction for {team1} vs. {team2}:\")\n",
    "    print(f\"{result['team1']} will {result['team1_outcome']}\")\n",
    "    print(f\"{result['team2']} will {result['team2_outcome']}\")"
   ]
  },
  {
   "cell_type": "code",
   "execution_count": null,
   "id": "4eea0403-2956-46a5-8dd7-27803dd460ef",
   "metadata": {},
   "outputs": [],
   "source": []
  }
 ],
 "metadata": {
  "kernelspec": {
   "display_name": "Python 3 (ipykernel)",
   "language": "python",
   "name": "python3"
  },
  "language_info": {
   "codemirror_mode": {
    "name": "ipython",
    "version": 3
   },
   "file_extension": ".py",
   "mimetype": "text/x-python",
   "name": "python",
   "nbconvert_exporter": "python",
   "pygments_lexer": "ipython3",
   "version": "3.11.7"
  }
 },
 "nbformat": 4,
 "nbformat_minor": 5
}
